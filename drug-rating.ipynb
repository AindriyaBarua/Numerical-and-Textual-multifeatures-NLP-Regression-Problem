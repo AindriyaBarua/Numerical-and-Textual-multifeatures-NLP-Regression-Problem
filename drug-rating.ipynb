{
  "nbformat": 4,
  "nbformat_minor": 0,
  "metadata": {
    "colab": {
      "name": "neurance_nlp_assignment-aindriya.ipynb",
      "provenance": [],
      "collapsed_sections": []
    },
    "kernelspec": {
      "name": "python3",
      "display_name": "Python 3"
    },
    "language_info": {
      "name": "python"
    }
  },
  "cells": [
    {
      "cell_type": "code",
      "execution_count": null,
      "metadata": {
        "colab": {
          "base_uri": "https://localhost:8080/"
        },
        "id": "s2yn6yYZpzNG",
        "outputId": "baae689a-be17-48b2-9d89-f8d362a2190f"
      },
      "outputs": [
        {
          "output_type": "stream",
          "name": "stdout",
          "text": [
            "[nltk_data] Downloading package wordnet to /root/nltk_data...\n",
            "[nltk_data]   Unzipping corpora/wordnet.zip.\n",
            "[nltk_data] Downloading package stopwords to /root/nltk_data...\n",
            "[nltk_data]   Unzipping corpora/stopwords.zip.\n"
          ]
        },
        {
          "output_type": "execute_result",
          "data": {
            "text/plain": [
              "True"
            ]
          },
          "metadata": {},
          "execution_count": 2
        }
      ],
      "source": [
        "import nltk\n",
        "nltk.download('wordnet')\n",
        "nltk.download('stopwords')"
      ]
    },
    {
      "cell_type": "code",
      "source": [
        "stopwords"
      ],
      "metadata": {
        "colab": {
          "base_uri": "https://localhost:8080/"
        },
        "id": "EcfYpVxNQvYY",
        "outputId": "e299aa3d-5b0f-44dc-8245-63f6f90f5ff2"
      },
      "execution_count": null,
      "outputs": [
        {
          "output_type": "execute_result",
          "data": {
            "text/plain": [
              "<WordListCorpusReader in '/root/nltk_data/corpora/stopwords'>"
            ]
          },
          "metadata": {},
          "execution_count": 32
        }
      ]
    },
    {
      "cell_type": "code",
      "source": [
        "!pip install fasttext"
      ],
      "metadata": {
        "colab": {
          "base_uri": "https://localhost:8080/"
        },
        "id": "gTSl8wYup3np",
        "outputId": "7b28d761-ee37-40fc-fca2-51d97be4c0d1"
      },
      "execution_count": null,
      "outputs": [
        {
          "output_type": "stream",
          "name": "stdout",
          "text": [
            "Collecting fasttext\n",
            "  Downloading fasttext-0.9.2.tar.gz (68 kB)\n",
            "\u001b[?25l\r\u001b[K     |████▊                           | 10 kB 22.9 MB/s eta 0:00:01\r\u001b[K     |█████████▌                      | 20 kB 27.2 MB/s eta 0:00:01\r\u001b[K     |██████████████▎                 | 30 kB 13.0 MB/s eta 0:00:01\r\u001b[K     |███████████████████             | 40 kB 9.5 MB/s eta 0:00:01\r\u001b[K     |███████████████████████▉        | 51 kB 5.0 MB/s eta 0:00:01\r\u001b[K     |████████████████████████████▋   | 61 kB 5.3 MB/s eta 0:00:01\r\u001b[K     |████████████████████████████████| 68 kB 3.3 MB/s \n",
            "\u001b[?25hCollecting pybind11>=2.2\n",
            "  Using cached pybind11-2.8.1-py2.py3-none-any.whl (208 kB)\n",
            "Requirement already satisfied: setuptools>=0.7.0 in /usr/local/lib/python3.7/dist-packages (from fasttext) (57.4.0)\n",
            "Requirement already satisfied: numpy in /usr/local/lib/python3.7/dist-packages (from fasttext) (1.19.5)\n",
            "Building wheels for collected packages: fasttext\n",
            "  Building wheel for fasttext (setup.py) ... \u001b[?25l\u001b[?25hdone\n",
            "  Created wheel for fasttext: filename=fasttext-0.9.2-cp37-cp37m-linux_x86_64.whl size=3122008 sha256=2bf0ff0f54b20678388cd1f9befe23106dc5a9f26029c7f4bf099315e52bbe1b\n",
            "  Stored in directory: /root/.cache/pip/wheels/4e/ca/bf/b020d2be95f7641801a6597a29c8f4f19e38f9c02a345bab9b\n",
            "Successfully built fasttext\n",
            "Installing collected packages: pybind11, fasttext\n",
            "Successfully installed fasttext-0.9.2 pybind11-2.8.1\n"
          ]
        }
      ]
    },
    {
      "cell_type": "code",
      "source": [
        "import pandas as pd\n",
        "import numpy as np\n",
        "import matplotlib.pyplot as plt\n",
        "import seaborn as sns\n",
        "\n",
        "import fasttext\n",
        "from nltk.corpus import stopwords\n",
        "from nltk.tokenize import RegexpTokenizer\n",
        "from nltk.stem.wordnet import WordNetLemmatizer\n",
        "import re"
      ],
      "metadata": {
        "id": "NMi79bQ_p90u"
      },
      "execution_count": null,
      "outputs": []
    },
    {
      "cell_type": "code",
      "source": [
        "train=pd.read_csv(\"train.csv\")\n",
        "test=pd.read_csv('test.csv')"
      ],
      "metadata": {
        "id": "Zc0bhb4EqPLb"
      },
      "execution_count": null,
      "outputs": []
    },
    {
      "cell_type": "code",
      "source": [
        "train.head()\n",
        "'''\n",
        "base_score is a continunous real value, so it is a regression problem\n",
        "there are 7 features, a combination of text and numberic data\n",
        "I need to find a way to convert all the data into numerical vector that can be used as input for training and testing\n",
        "patient_id, effictiveness_rating, number _of_times_prescribed are already numbers so dont need embedding\n",
        "I will use fasttext to embed the text of name_of_drug,\tuse_case_for_drug,\treview_by_patient\n",
        "drug_approved_by_UIC are date, can be converted to numerical format\n",
        "For the final input vector X, I need to combine the text and numeriacl data into one vector.\n",
        "For that I decided to do \"direct sum\" of the vectors, that considers each new feature as a new Dimension for the input vector\n",
        "'''\n"
      ],
      "metadata": {
        "colab": {
          "base_uri": "https://localhost:8080/",
          "height": 241
        },
        "id": "Rtd9e6x8qvci",
        "outputId": "afe60c66-00c1-4725-d827-27c4323497d8"
      },
      "execution_count": null,
      "outputs": [
        {
          "output_type": "execute_result",
          "data": {
            "text/html": [
              "<div>\n",
              "<style scoped>\n",
              "    .dataframe tbody tr th:only-of-type {\n",
              "        vertical-align: middle;\n",
              "    }\n",
              "\n",
              "    .dataframe tbody tr th {\n",
              "        vertical-align: top;\n",
              "    }\n",
              "\n",
              "    .dataframe thead th {\n",
              "        text-align: right;\n",
              "    }\n",
              "</style>\n",
              "<table border=\"1\" class=\"dataframe\">\n",
              "  <thead>\n",
              "    <tr style=\"text-align: right;\">\n",
              "      <th></th>\n",
              "      <th>patient_id</th>\n",
              "      <th>name_of_drug</th>\n",
              "      <th>use_case_for_drug</th>\n",
              "      <th>review_by_patient</th>\n",
              "      <th>effectiveness_rating</th>\n",
              "      <th>drug_approved_by_UIC</th>\n",
              "      <th>number_of_times_prescribed</th>\n",
              "      <th>base_score</th>\n",
              "    </tr>\n",
              "  </thead>\n",
              "  <tbody>\n",
              "    <tr>\n",
              "      <th>0</th>\n",
              "      <td>206461</td>\n",
              "      <td>Valsartan</td>\n",
              "      <td>Left Ventricular Dysfunction</td>\n",
              "      <td>\"It has no side effect, I take it in combinati...</td>\n",
              "      <td>9</td>\n",
              "      <td>20-May-12</td>\n",
              "      <td>27</td>\n",
              "      <td>8.022969</td>\n",
              "    </tr>\n",
              "    <tr>\n",
              "      <th>1</th>\n",
              "      <td>95260</td>\n",
              "      <td>Guanfacine</td>\n",
              "      <td>ADHD</td>\n",
              "      <td>\"My son is halfway through his fourth week of ...</td>\n",
              "      <td>8</td>\n",
              "      <td>27-Apr-10</td>\n",
              "      <td>192</td>\n",
              "      <td>7.858458</td>\n",
              "    </tr>\n",
              "    <tr>\n",
              "      <th>2</th>\n",
              "      <td>92703</td>\n",
              "      <td>Lybrel</td>\n",
              "      <td>Birth Control</td>\n",
              "      <td>\"I used to take another oral contraceptive, wh...</td>\n",
              "      <td>5</td>\n",
              "      <td>14-Dec-09</td>\n",
              "      <td>17</td>\n",
              "      <td>6.341969</td>\n",
              "    </tr>\n",
              "    <tr>\n",
              "      <th>3</th>\n",
              "      <td>35696</td>\n",
              "      <td>Buprenorphine / naloxone</td>\n",
              "      <td>Opiate Dependence</td>\n",
              "      <td>\"Suboxone has completely turned my life around...</td>\n",
              "      <td>9</td>\n",
              "      <td>27-Nov-16</td>\n",
              "      <td>37</td>\n",
              "      <td>6.590176</td>\n",
              "    </tr>\n",
              "    <tr>\n",
              "      <th>4</th>\n",
              "      <td>155963</td>\n",
              "      <td>Cialis</td>\n",
              "      <td>Benign Prostatic Hyperplasia</td>\n",
              "      <td>\"2nd day on 5mg started to work with rock hard...</td>\n",
              "      <td>2</td>\n",
              "      <td>28-Nov-15</td>\n",
              "      <td>43</td>\n",
              "      <td>6.144782</td>\n",
              "    </tr>\n",
              "  </tbody>\n",
              "</table>\n",
              "</div>"
            ],
            "text/plain": [
              "   patient_id              name_of_drug  ... number_of_times_prescribed base_score\n",
              "0      206461                 Valsartan  ...                         27   8.022969\n",
              "1       95260                Guanfacine  ...                        192   7.858458\n",
              "2       92703                    Lybrel  ...                         17   6.341969\n",
              "3       35696  Buprenorphine / naloxone  ...                         37   6.590176\n",
              "4      155963                    Cialis  ...                         43   6.144782\n",
              "\n",
              "[5 rows x 8 columns]"
            ]
          },
          "metadata": {},
          "execution_count": 6
        }
      ]
    },
    {
      "cell_type": "code",
      "source": [
        "# checking of there are any bad null values in the data\n",
        "train.isnull().sum()"
      ],
      "metadata": {
        "colab": {
          "base_uri": "https://localhost:8080/"
        },
        "id": "eWqErnIrrclV",
        "outputId": "3dbe3ea2-cd8b-44d2-a99d-c2de39c9bc5c"
      },
      "execution_count": null,
      "outputs": [
        {
          "output_type": "execute_result",
          "data": {
            "text/plain": [
              "patient_id                    0\n",
              "name_of_drug                  0\n",
              "use_case_for_drug             0\n",
              "review_by_patient             0\n",
              "effectiveness_rating          0\n",
              "drug_approved_by_UIC          0\n",
              "number_of_times_prescribed    0\n",
              "base_score                    0\n",
              "dtype: int64"
            ]
          },
          "metadata": {},
          "execution_count": 7
        }
      ]
    },
    {
      "cell_type": "code",
      "source": [
        "test.isnull().sum()"
      ],
      "metadata": {
        "colab": {
          "base_uri": "https://localhost:8080/"
        },
        "id": "TSZsLWVosTfQ",
        "outputId": "7fd18f37-8bd4-48f0-8513-fc5072aaee5f"
      },
      "execution_count": null,
      "outputs": [
        {
          "output_type": "execute_result",
          "data": {
            "text/plain": [
              "patient_id                    0\n",
              "name_of_drug                  0\n",
              "review_by_patient             0\n",
              "drug_approved_by_UIC          0\n",
              "number_of_times_prescribed    0\n",
              "use_case_for_drug             0\n",
              "effectiveness_rating          0\n",
              "dtype: int64"
            ]
          },
          "metadata": {},
          "execution_count": 8
        }
      ]
    },
    {
      "cell_type": "code",
      "source": [
        "def lemmatize_sentence(tokens):\n",
        "    lemmatizer = WordNetLemmatizer()\n",
        "    lemmatized_tokens = [lemmatizer.lemmatize(word) for word in tokens]\n",
        "    return lemmatized_tokens\n",
        "\n",
        "\n",
        "def tokenize_and_remove_punctuation(sentence):\n",
        "    tokenizer = RegexpTokenizer(r'\\w+')\n",
        "    tokens = tokenizer.tokenize(sentence)\n",
        "    return tokens\n",
        "\n",
        "\n",
        "def remove_stopwords(word_tokens):\n",
        "    filtered_tokens = [word for word in word_tokens if word not in stopwords.words('english')]\n",
        "    return filtered_tokens\n",
        "\n",
        "\n",
        "'''\n",
        "Convert to lower case,\n",
        "remove punctuation\n",
        "lemmatize\n",
        "'''\n",
        "def preprocess_main(sent):\n",
        "    sent = sent.lower()\n",
        "    re.sub(' +', ' ', sent)\n",
        "    re.sub('\\n', ' ', sent)\n",
        "    tokens = tokenize_and_remove_punctuation(sent)\n",
        "    lemmatized_tokens = lemmatize_sentence(tokens)\n",
        "    orig = lemmatized_tokens\n",
        "    filtered_tokens = remove_stopwords(tokens)\n",
        "    if len(filtered_tokens) == 0:\n",
        "        # if stop word removal removes everything, don't do it\n",
        "        filtered_tokens = orig\n",
        "    normalized_sent = \" \".join(filtered_tokens)\n",
        "    return normalized_sent"
      ],
      "metadata": {
        "id": "RRqHQwWXoIjp"
      },
      "execution_count": null,
      "outputs": []
    },
    {
      "cell_type": "code",
      "source": [
        "#make X_train, X_test\n",
        "drugname_train = train['name_of_drug']\n",
        "usecase_train = train['use_case_for_drug']\n",
        "review_train = train['review_by_patient']\n",
        "norm_review_train = review_train.replace()\n",
        "date_train = train.drug_approved_by_UIC\n",
        "\n"
      ],
      "metadata": {
        "id": "sUlpvzj7wKyt"
      },
      "execution_count": null,
      "outputs": []
    },
    {
      "cell_type": "code",
      "source": [
        "#to normalise statements in review\n",
        "def normalise_series(series):\n",
        "  for review in series:\n",
        "    norm_review = preprocess_main(review)\n",
        "    series = series.replace([review], norm_review)\n",
        "  return series"
      ],
      "metadata": {
        "id": "pHMciySYRxLz"
      },
      "execution_count": null,
      "outputs": []
    },
    {
      "cell_type": "code",
      "source": [
        "review_train = normalise_series(review_train)"
      ],
      "metadata": {
        "id": "fltVudk1dEzb"
      },
      "execution_count": null,
      "outputs": []
    },
    {
      "cell_type": "code",
      "source": [
        "review_train.head()"
      ],
      "metadata": {
        "colab": {
          "base_uri": "https://localhost:8080/"
        },
        "id": "6gpqxQcQqlke",
        "outputId": "92fba1bd-f4f5-4d37-f2e0-9c1db1fdcd23"
      },
      "execution_count": null,
      "outputs": [
        {
          "output_type": "execute_result",
          "data": {
            "text/plain": [
              "0    side effect take combination bystolic 5 mg fis...\n",
              "1    son halfway fourth week intuniv became concern...\n",
              "2    used take another oral contraceptive 21 pill c...\n",
              "3    suboxone completely turned life around feel he...\n",
              "4    2nd day 5mg started work rock hard erections h...\n",
              "Name: review_by_patient, dtype: object"
            ]
          },
          "metadata": {},
          "execution_count": 43
        }
      ]
    },
    {
      "cell_type": "code",
      "source": [
        "# test is the input for the final submission\n",
        "drugname_test = test['name_of_drug']\n",
        "usecase_test = test['use_case_for_drug']\n",
        "review_test = test['review_by_patient']\n",
        "\n",
        "date_test = test['drug_approved_by_UIC']"
      ],
      "metadata": {
        "id": "9yIO7S2g2ecW"
      },
      "execution_count": null,
      "outputs": []
    },
    {
      "cell_type": "code",
      "source": [
        "review_test = normalise_series(review_test)"
      ],
      "metadata": {
        "id": "BF2_CpbnZXx7"
      },
      "execution_count": null,
      "outputs": []
    },
    {
      "cell_type": "code",
      "source": [
        "# I am making a custom fasttext word embedding model for our dataset, with all the text i name_of_drug, use_case_for_Drug and review_by_patient\n",
        "train_text = pd.DataFrame([drugname_train, usecase_train, review_train]).transpose()"
      ],
      "metadata": {
        "id": "WhBKdxJH2jym"
      },
      "execution_count": null,
      "outputs": []
    },
    {
      "cell_type": "code",
      "source": [
        "train_text.head()"
      ],
      "metadata": {
        "colab": {
          "base_uri": "https://localhost:8080/",
          "height": 206
        },
        "id": "G4DDpAJU4k1N",
        "outputId": "75dc4b87-ec53-4e17-d5c8-1b7951b04d72"
      },
      "execution_count": null,
      "outputs": [
        {
          "output_type": "execute_result",
          "data": {
            "text/html": [
              "<div>\n",
              "<style scoped>\n",
              "    .dataframe tbody tr th:only-of-type {\n",
              "        vertical-align: middle;\n",
              "    }\n",
              "\n",
              "    .dataframe tbody tr th {\n",
              "        vertical-align: top;\n",
              "    }\n",
              "\n",
              "    .dataframe thead th {\n",
              "        text-align: right;\n",
              "    }\n",
              "</style>\n",
              "<table border=\"1\" class=\"dataframe\">\n",
              "  <thead>\n",
              "    <tr style=\"text-align: right;\">\n",
              "      <th></th>\n",
              "      <th>name_of_drug</th>\n",
              "      <th>use_case_for_drug</th>\n",
              "      <th>review_by_patient</th>\n",
              "    </tr>\n",
              "  </thead>\n",
              "  <tbody>\n",
              "    <tr>\n",
              "      <th>0</th>\n",
              "      <td>Valsartan</td>\n",
              "      <td>Left Ventricular Dysfunction</td>\n",
              "      <td>side effect take combination bystolic 5 mg fis...</td>\n",
              "    </tr>\n",
              "    <tr>\n",
              "      <th>1</th>\n",
              "      <td>Guanfacine</td>\n",
              "      <td>ADHD</td>\n",
              "      <td>son halfway fourth week intuniv became concern...</td>\n",
              "    </tr>\n",
              "    <tr>\n",
              "      <th>2</th>\n",
              "      <td>Lybrel</td>\n",
              "      <td>Birth Control</td>\n",
              "      <td>used take another oral contraceptive 21 pill c...</td>\n",
              "    </tr>\n",
              "    <tr>\n",
              "      <th>3</th>\n",
              "      <td>Buprenorphine / naloxone</td>\n",
              "      <td>Opiate Dependence</td>\n",
              "      <td>suboxone completely turned life around feel he...</td>\n",
              "    </tr>\n",
              "    <tr>\n",
              "      <th>4</th>\n",
              "      <td>Cialis</td>\n",
              "      <td>Benign Prostatic Hyperplasia</td>\n",
              "      <td>2nd day 5mg started work rock hard erections h...</td>\n",
              "    </tr>\n",
              "  </tbody>\n",
              "</table>\n",
              "</div>"
            ],
            "text/plain": [
              "               name_of_drug  ...                                  review_by_patient\n",
              "0                 Valsartan  ...  side effect take combination bystolic 5 mg fis...\n",
              "1                Guanfacine  ...  son halfway fourth week intuniv became concern...\n",
              "2                    Lybrel  ...  used take another oral contraceptive 21 pill c...\n",
              "3  Buprenorphine / naloxone  ...  suboxone completely turned life around feel he...\n",
              "4                    Cialis  ...  2nd day 5mg started work rock hard erections h...\n",
              "\n",
              "[5 rows x 3 columns]"
            ]
          },
          "metadata": {},
          "execution_count": 46
        }
      ]
    },
    {
      "cell_type": "code",
      "source": [
        "import datetime\n",
        "def embed_dates(date_series):\n",
        "  dates = []\n",
        "  for strdate in date_series:\n",
        "    datetimeobj=datetime.datetime.strptime(strdate,\"%d-%b-%y\")\n",
        "    date_numeric = 10000*datetimeobj.year + 100*datetimeobj.month + datetimeobj.day\n",
        "    dates.append(date_numeric)\n",
        "  return dates"
      ],
      "metadata": {
        "id": "Q5NbDBs37KyQ"
      },
      "execution_count": null,
      "outputs": []
    },
    {
      "cell_type": "code",
      "source": [
        "# this has name_of_drug, use_case_for_Drug and review_by_patient which will be fed to fasttext unsupervised training\n",
        "train_text.to_csv('text_train.csv', index=False)"
      ],
      "metadata": {
        "id": "7PcNr5qqU8LM"
      },
      "execution_count": null,
      "outputs": []
    },
    {
      "cell_type": "code",
      "source": [
        "model = fasttext.train_unsupervised('text_train.csv', model='skipgram', lr=0.05, dim=100, ws=5, epoch=5)\n",
        "# now this model is trained on our medical dataset, and will be able to predict our field-specific data bettter than basic english pretrained fasttext model"
      ],
      "metadata": {
        "id": "ixu_PmGCsMUX"
      },
      "execution_count": null,
      "outputs": []
    },
    {
      "cell_type": "code",
      "source": [
        "def get_fastext_vectors(series):\n",
        "  vectors = []\n",
        "  for item in series:\n",
        "        vectors.append(model.get_sentence_vector(item))\n",
        "  return vectors"
      ],
      "metadata": {
        "id": "6-72I6MCxRyA"
      },
      "execution_count": null,
      "outputs": []
    },
    {
      "cell_type": "code",
      "source": [
        "drugname_vec_train = get_fastext_vectors(drugname_train)\n",
        "usecase_vec_train = get_fastext_vectors(usecase_train)\n",
        "review_vec_train = get_fastext_vectors(review_train)\n",
        "date_vec_train = embed_dates(date_train)"
      ],
      "metadata": {
        "id": "5vEHsD24soun"
      },
      "execution_count": null,
      "outputs": []
    },
    {
      "cell_type": "code",
      "source": [
        "drugname_vec_test = get_fastext_vectors(drugname_test)\n",
        "usecase_vec_test = get_fastext_vectors(usecase_test)\n",
        "review_vec_test = get_fastext_vectors(review_test)\n",
        "date_vec_test = embed_dates(date_test)"
      ],
      "metadata": {
        "id": "4mKj0xXZccTY"
      },
      "execution_count": null,
      "outputs": []
    },
    {
      "cell_type": "code",
      "source": [
        "drugname_vec_train = np.array(drugname_vec_train)\n",
        "usecase_vec_train = np.array(usecase_vec_train)\n",
        "review_vec_train = np.array(review_vec_train)\n",
        "date_vec_train = np.array(date_vec_train)"
      ],
      "metadata": {
        "id": "eWIgFrnp1NGr"
      },
      "execution_count": null,
      "outputs": []
    },
    {
      "cell_type": "code",
      "source": [
        "drugname_vec_test = np.array(drugname_vec_test)\n",
        "usecase_vec_test = np.array(usecase_vec_test)\n",
        "review_vec_test = np.array(review_vec_test)\n",
        "date_vec_test = np.array(date_vec_test)"
      ],
      "metadata": {
        "id": "e4bEDaWTeY_3"
      },
      "execution_count": null,
      "outputs": []
    },
    {
      "cell_type": "code",
      "source": [
        "# here we can see the size pf the fasttext embedded vectors of each text docs are default 100\n",
        "print(np.shape(drugname_vec_train))\n",
        "print(np.shape(usecase_vec_train))\n",
        "print(np.shape(review_vec_train))\n",
        "print(np.shape(date_vec_train))\n",
        "len(drugname_vec_train)"
      ],
      "metadata": {
        "colab": {
          "base_uri": "https://localhost:8080/"
        },
        "id": "F42h3cYtXV8j",
        "outputId": "f2b65752-8377-4a42-9067-059758b2c3ab"
      },
      "execution_count": null,
      "outputs": [
        {
          "output_type": "stream",
          "name": "stdout",
          "text": [
            "(32165, 100)\n",
            "(32165, 100)\n",
            "(32165, 100)\n",
            "(32165,)\n"
          ]
        },
        {
          "output_type": "execute_result",
          "data": {
            "text/plain": [
              "32165"
            ]
          },
          "metadata": {},
          "execution_count": 58
        }
      ]
    },
    {
      "cell_type": "code",
      "source": [
        "print(np.shape(drugname_vec_test))\n",
        "print(np.shape(usecase_vec_test))\n",
        "print(np.shape(review_vec_test))\n",
        "print(np.shape(date_vec_test))\n",
        "len(drugname_vec_test)"
      ],
      "metadata": {
        "colab": {
          "base_uri": "https://localhost:8080/"
        },
        "id": "8Ymmum6-ej9O",
        "outputId": "f4a7b527-87f3-4465-f24e-1adda70db18b"
      },
      "execution_count": null,
      "outputs": [
        {
          "output_type": "stream",
          "name": "stdout",
          "text": [
            "(10760, 100)\n",
            "(10760, 100)\n",
            "(10760, 100)\n",
            "(10760,)\n"
          ]
        },
        {
          "output_type": "execute_result",
          "data": {
            "text/plain": [
              "10760"
            ]
          },
          "metadata": {},
          "execution_count": 89
        }
      ]
    },
    {
      "cell_type": "code",
      "source": [
        "np.array(train['patient_id'][0])"
      ],
      "metadata": {
        "colab": {
          "base_uri": "https://localhost:8080/"
        },
        "id": "N95jppaZainI",
        "outputId": "5894e1b9-56c4-4291-e3c9-ebf4adf8ee9e"
      },
      "execution_count": null,
      "outputs": [
        {
          "output_type": "execute_result",
          "data": {
            "text/plain": [
              "array([206461,  95260,  92703, ..., 121154,  45410, 187382])"
            ]
          },
          "metadata": {},
          "execution_count": 73
        }
      ]
    },
    {
      "cell_type": "code",
      "source": [
        "# We are doing direct sum of all the numerical vectors, treating each feature as a seperate dimension\n",
        "X_train = []\n",
        "for i in range (0, len(drugname_vec_train)):\n",
        "  Xi = np.concatenate(( np.array(train['patient_id'][i]), drugname_vec_train[i], usecase_vec_train[i], review_vec_train[i], np.array(train['effectiveness_rating'][i]), date_vec_train[i], np.array(train['number_of_times_prescribed'][i])), axis = None)\n",
        "  X_train.append(Xi)"
      ],
      "metadata": {
        "id": "lhdcj1gLZPBF"
      },
      "execution_count": null,
      "outputs": []
    },
    {
      "cell_type": "code",
      "source": [
        "X_test = []\n",
        "for i in range (0, len(drugname_vec_test)):\n",
        "  Xi = np.concatenate(( np.array(test['patient_id'][i]), drugname_vec_test[i], usecase_vec_test[i], review_vec_test[i], np.array(test['effectiveness_rating'][i]), date_vec_test[i], np.array(test['number_of_times_prescribed'][i])), axis = None)\n",
        "  X_test.append(Xi)"
      ],
      "metadata": {
        "id": "MjJd9g0wewtV"
      },
      "execution_count": null,
      "outputs": []
    },
    {
      "cell_type": "code",
      "source": [
        "# here we can see the final size of each vector is 304, which makes sense\n",
        "# because there are three text columns, each of size 100 (fasttext embedding), date, patient id, effectivess, number of times prescribed are 4 single numeric values \n",
        "# hence our input vectors with combined text and numerical data is ready \n",
        "np.shape(X_train)"
      ],
      "metadata": {
        "colab": {
          "base_uri": "https://localhost:8080/"
        },
        "id": "W2Q2fEZ4beoa",
        "outputId": "cb31a045-d90b-4184-bc2a-0ccd637caa40"
      },
      "execution_count": null,
      "outputs": [
        {
          "output_type": "execute_result",
          "data": {
            "text/plain": [
              "(32165, 304)"
            ]
          },
          "metadata": {},
          "execution_count": 75
        }
      ]
    },
    {
      "cell_type": "code",
      "source": [
        "np.shape(X_test)"
      ],
      "metadata": {
        "colab": {
          "base_uri": "https://localhost:8080/"
        },
        "id": "5tZUOWGdy5WJ",
        "outputId": "1f550963-435a-4296-c60e-e398caab11ed"
      },
      "execution_count": null,
      "outputs": [
        {
          "output_type": "execute_result",
          "data": {
            "text/plain": [
              "(10760, 304)"
            ]
          },
          "metadata": {},
          "execution_count": 91
        }
      ]
    },
    {
      "cell_type": "code",
      "source": [
        "# this is the desired output we wat to predict\n",
        "y_train = np.array(train.base_score)"
      ],
      "metadata": {
        "id": "Epe59w9-zok0"
      },
      "execution_count": null,
      "outputs": []
    },
    {
      "cell_type": "code",
      "source": [
        "y_test = np.array(test.)"
      ],
      "metadata": {
        "id": "I_5B9MsXfTQ_"
      },
      "execution_count": null,
      "outputs": []
    },
    {
      "cell_type": "code",
      "source": [
        "np.shape(y_train)"
      ],
      "metadata": {
        "colab": {
          "base_uri": "https://localhost:8080/"
        },
        "id": "bH3JKXpJ-77I",
        "outputId": "193378dd-73ab-415e-d5ba-a528b3e5b7c1"
      },
      "execution_count": null,
      "outputs": [
        {
          "output_type": "execute_result",
          "data": {
            "text/plain": [
              "(32165,)"
            ]
          },
          "metadata": {},
          "execution_count": 77
        }
      ]
    },
    {
      "cell_type": "code",
      "source": [
        "from sklearn.ensemble import RandomForestRegressor\n",
        "# I have used RFC though a number of other algorithms can be used and compared to find the best performer\n",
        "regressor=RandomForestRegressor(max_features='sqrt')\n",
        "regressor.fit(X_train,y_train)"
      ],
      "metadata": {
        "colab": {
          "base_uri": "https://localhost:8080/"
        },
        "id": "ly_oAHfE4Kza",
        "outputId": "52b3a613-b3fa-4822-9054-4e116386bcdc"
      },
      "execution_count": null,
      "outputs": [
        {
          "output_type": "execute_result",
          "data": {
            "text/plain": [
              "RandomForestRegressor(max_features='sqrt')"
            ]
          },
          "metadata": {},
          "execution_count": 78
        }
      ]
    },
    {
      "cell_type": "code",
      "source": [
        "pred = regressor.predict(X_test)"
      ],
      "metadata": {
        "id": "et8rP5N5-_19"
      },
      "execution_count": null,
      "outputs": []
    },
    {
      "cell_type": "code",
      "source": [
        "len(pred)"
      ],
      "metadata": {
        "colab": {
          "base_uri": "https://localhost:8080/"
        },
        "id": "RZ9_FWgHhY_9",
        "outputId": "5f411e35-c19e-4511-af70-dde0cbbf8cf9"
      },
      "execution_count": null,
      "outputs": [
        {
          "output_type": "execute_result",
          "data": {
            "text/plain": [
              "10760"
            ]
          },
          "metadata": {},
          "execution_count": 100
        }
      ]
    },
    {
      "cell_type": "code",
      "source": [
        "test.shape"
      ],
      "metadata": {
        "colab": {
          "base_uri": "https://localhost:8080/"
        },
        "id": "Oih89cGAhbB1",
        "outputId": "ad8a7d59-69a6-4e5a-c79b-b206e0e704c4"
      },
      "execution_count": null,
      "outputs": [
        {
          "output_type": "execute_result",
          "data": {
            "text/plain": [
              "(10760, 7)"
            ]
          },
          "metadata": {},
          "execution_count": 101
        }
      ]
    },
    {
      "cell_type": "code",
      "source": [
        "# checking random prediction\n",
        "pred[1008]"
      ],
      "metadata": {
        "colab": {
          "base_uri": "https://localhost:8080/"
        },
        "id": "rsdtJZSl8_u7",
        "outputId": "74dfe492-bf99-4d69-fbd8-6d7325c59fe0"
      },
      "execution_count": null,
      "outputs": [
        {
          "output_type": "execute_result",
          "data": {
            "text/plain": [
              "6.383335234900478"
            ]
          },
          "metadata": {},
          "execution_count": 96
        }
      ]
    },
    {
      "cell_type": "code",
      "source": [
        "# sample output is rounded to 2 decimal places\n",
        "pred = [prediction.round(2) for prediction in pred]"
      ],
      "metadata": {
        "id": "jjCQfMRa8sIc"
      },
      "execution_count": null,
      "outputs": []
    },
    {
      "cell_type": "code",
      "source": [
        "# prepare final submission\n",
        "submission = pd.DataFrame()\n",
        "submission['patient_id'] = test['patient_id']\n",
        "submission['base_score'] = pred\n",
        "submission.to_csv('submission.csv', index=False)"
      ],
      "metadata": {
        "id": "KCc7VlMq87LB"
      },
      "execution_count": null,
      "outputs": []
    },
    {
      "cell_type": "code",
      "source": [
        "submission.head()"
      ],
      "metadata": {
        "colab": {
          "base_uri": "https://localhost:8080/",
          "height": 206
        },
        "id": "H7O_FbbsiimO",
        "outputId": "1518c986-aa3a-4646-9f0f-e2328a59f6a8"
      },
      "execution_count": null,
      "outputs": [
        {
          "output_type": "execute_result",
          "data": {
            "text/html": [
              "<div>\n",
              "<style scoped>\n",
              "    .dataframe tbody tr th:only-of-type {\n",
              "        vertical-align: middle;\n",
              "    }\n",
              "\n",
              "    .dataframe tbody tr th {\n",
              "        vertical-align: top;\n",
              "    }\n",
              "\n",
              "    .dataframe thead th {\n",
              "        text-align: right;\n",
              "    }\n",
              "</style>\n",
              "<table border=\"1\" class=\"dataframe\">\n",
              "  <thead>\n",
              "    <tr style=\"text-align: right;\">\n",
              "      <th></th>\n",
              "      <th>patient_id</th>\n",
              "      <th>base_score</th>\n",
              "    </tr>\n",
              "  </thead>\n",
              "  <tbody>\n",
              "    <tr>\n",
              "      <th>0</th>\n",
              "      <td>163740</td>\n",
              "      <td>7.39</td>\n",
              "    </tr>\n",
              "    <tr>\n",
              "      <th>1</th>\n",
              "      <td>39293</td>\n",
              "      <td>7.07</td>\n",
              "    </tr>\n",
              "    <tr>\n",
              "      <th>2</th>\n",
              "      <td>208087</td>\n",
              "      <td>6.38</td>\n",
              "    </tr>\n",
              "    <tr>\n",
              "      <th>3</th>\n",
              "      <td>23295</td>\n",
              "      <td>6.16</td>\n",
              "    </tr>\n",
              "    <tr>\n",
              "      <th>4</th>\n",
              "      <td>97013</td>\n",
              "      <td>6.38</td>\n",
              "    </tr>\n",
              "  </tbody>\n",
              "</table>\n",
              "</div>"
            ],
            "text/plain": [
              "   patient_id  base_score\n",
              "0      163740        7.39\n",
              "1       39293        7.07\n",
              "2      208087        6.38\n",
              "3       23295        6.16\n",
              "4       97013        6.38"
            ]
          },
          "metadata": {},
          "execution_count": 110
        }
      ]
    },
    {
      "cell_type": "code",
      "source": [
        "# download final submission\n",
        "submission.to_csv('submission_file.csv', index=False)"
      ],
      "metadata": {
        "id": "kBPAVFv9hQrx"
      },
      "execution_count": null,
      "outputs": []
    }
  ]
}